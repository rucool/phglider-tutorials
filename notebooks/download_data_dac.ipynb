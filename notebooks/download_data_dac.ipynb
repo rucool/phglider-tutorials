{
 "cells": [
  {
   "cell_type": "markdown",
   "metadata": {
    "colab_type": "text",
    "id": "OoQxh3aneS5M"
   },
   "source": [
    "# Downloading pH glider data from the IOOS Glider Data Assembly Center\n",
    "\n",
    "_Written by Lori Garzio, June 14, 2023_\n",
    "\n",
    "[Rutgers Center for Ocean Observing Leadership](https://rucool.marine.rutgers.edu/) (RUCOOL)\n",
    "\n",
    "This tutorial shows you how to manually download NetCDF files from the [IOOS Glider DAC](https://gliders.ioos.us/). We have to download the delayed-mode datasets because real-time datasets do not have calculated pH included in the files. pH is calculated in the post-processing and QA/QC process, and those delayed-mode files are submitted to the DAC for public access.\n",
    "\n",
    "In this example, we will be downloading delayed-mode data from the [spring 2021 deployment of ru30](https://gliders.ioos.us/erddap/tabledap/ru30-20210503T1929-delayed.html). You can browse this ERDDAP data page to get information about the deployment, make some graphs, and download the dataset in a variety of formats.\n",
    "\n",
    "First, navigate to the main IOOS ERDDAP landing page https://gliders.ioos.us/erddap/index.html and enter the dataset you want to download in the search bar."
   ]
  },
  {
   "cell_type": "markdown",
   "metadata": {},
   "source": [
    "<img src=\"../imgs/erddap01.png\" width=1000 height=1000 />"
   ]
  },
  {
   "cell_type": "markdown",
   "metadata": {},
   "source": [
    "Find the dataset you want (in this case the delayed-mode dataset) and click on \"data\"."
   ]
  },
  {
   "cell_type": "markdown",
   "metadata": {},
   "source": [
    "<img src=\"../imgs/erddap02.png\" width=1000 height=1000 />"
   ]
  },
  {
   "cell_type": "markdown",
   "metadata": {},
   "source": [
    "This will bring you to the data access form. In this form, select the variables you want to include in your downloaded file and double-check the optional constraints. A time range is usually auto-selected, so if you want the entire dataset then make sure to clear those constraints for time."
   ]
  },
  {
   "cell_type": "markdown",
   "metadata": {},
   "source": [
    "<img src=\"../imgs/erddap03.png\" width=1000 height=1000 />"
   ]
  },
  {
   "cell_type": "markdown",
   "metadata": {},
   "source": [
    "Scroll down to the bottom of the form, select \".nc - Download a flat, table-like NetCDF-3 binary file with COARDS/CF/ACDD metadata\" as the File type, and hit Submit. It might take a while for the download to complete, depending on the size of your file."
   ]
  },
  {
   "cell_type": "markdown",
   "metadata": {},
   "source": [
    "<img src=\"../imgs/erddap04.png\" width=1000 height=1000 />"
   ]
  }
 ],
 "metadata": {
  "colab": {
   "collapsed_sections": [],
   "name": "DL June Air-Sea v1.ipynb",
   "provenance": [],
   "toc_visible": true,
   "version": "0.3.2"
  },
  "kernelspec": {
   "display_name": "Python 3 (ipykernel)",
   "language": "python",
   "name": "python3"
  },
  "language_info": {
   "codemirror_mode": {
    "name": "ipython",
    "version": 3
   },
   "file_extension": ".py",
   "mimetype": "text/x-python",
   "name": "python",
   "nbconvert_exporter": "python",
   "pygments_lexer": "ipython3",
   "version": "3.11.4"
  }
 },
 "nbformat": 4,
 "nbformat_minor": 1
}
